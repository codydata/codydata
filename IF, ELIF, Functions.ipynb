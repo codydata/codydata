{
 "cells": [
  {
   "cell_type": "markdown",
   "metadata": {},
   "source": [
    "Print multiple strings and loops"
   ]
  },
  {
   "cell_type": "code",
   "execution_count": null,
   "metadata": {},
   "outputs": [],
   "source": [
    "weather = ['Cold'] * 5\n",
    "print(weather)"
   ]
  },
  {
   "cell_type": "code",
   "execution_count": null,
   "metadata": {},
   "outputs": [],
   "source": [
    "counter = 10\n",
    "while counter <=12:\n",
    "    print('Hello World')\n",
    "    counter = counter + 1 #while counter needs to be greater than counter to print + 1 details of string.  If counter = 9, nothing will return"
   ]
  },
  {
   "cell_type": "code",
   "execution_count": null,
   "metadata": {
    "scrolled": true
   },
   "outputs": [],
   "source": [
    "for number in [1,2,3,5,8,13,21]:\n",
    "    print(number)#fibonacci sequence"
   ]
  },
  {
   "cell_type": "markdown",
   "metadata": {},
   "source": [
    "If Statement"
   ]
  },
  {
   "cell_type": "code",
   "execution_count": null,
   "metadata": {},
   "outputs": [],
   "source": [
    "age == 10\n",
    "if age >=10:\n",
    "    print('I am',age)\n",
    "else:\n",
    "    print('I am less than',age)"
   ]
  },
  {
   "cell_type": "markdown",
   "metadata": {},
   "source": [
    "Else if"
   ]
  },
  {
   "cell_type": "code",
   "execution_count": null,
   "metadata": {},
   "outputs": [],
   "source": [
    "score = 60\n",
    "if score == 50:\n",
    "    print('The score is',score)\n",
    "else:\n",
    "    if score >50:\n",
    "        print('The score is greater than',score)\n",
    "    else:\n",
    "        print('The score is less than',score)#change the varibale score to see the different results"
   ]
  },
  {
   "cell_type": "code",
   "execution_count": null,
   "metadata": {},
   "outputs": [],
   "source": [
    "grade = 50\n",
    "\n",
    "if grade >= 90:\n",
    "    print('A')\n",
    "elif grade >=80:\n",
    "    print('B')\n",
    "elif grade >=70:\n",
    "    print('C')\n",
    "elif grade >=60:\n",
    "    print('D')\n",
    "elif grade >=50:\n",
    "    print('E')\n",
    "else:\n",
    "    print('FAIL')"
   ]
  },
  {
   "cell_type": "markdown",
   "metadata": {},
   "source": [
    "Function -  Allows users to name a varibale which is a funtion.  When the funtion is called using the variable it saves the users having to write out the paramters of the funtion (less lines on code, do it once and reuse the same code)"
   ]
  },
  {
   "cell_type": "code",
   "execution_count": 9,
   "metadata": {},
   "outputs": [],
   "source": [
    "def squareroot(n):\n",
    "    root = n/2    #initial guess will be 1/2 of n\n",
    "    for k in range(20):\n",
    "        root = (1/2)*(root + (n / root))\n",
    "\n",
    "    return root\n",
    "#when 'squareroot' variable is called it will return the value based on the paramters defined in the funtion.  \n",
    "#The 'n' can be anything so long as its consistent"
   ]
  },
  {
   "cell_type": "code",
   "execution_count": 10,
   "metadata": {},
   "outputs": [
    {
     "data": {
      "text/plain": [
       "9.0"
      ]
     },
     "execution_count": 10,
     "metadata": {},
     "output_type": "execute_result"
    }
   ],
   "source": [
    "squareroot(81)"
   ]
  },
  {
   "cell_type": "code",
   "execution_count": 20,
   "metadata": {},
   "outputs": [],
   "source": [
    "def mean(number):\n",
    "    total = sum(number)\n",
    "    mean = total/len(number) \n",
    "    return mean"
   ]
  },
  {
   "cell_type": "code",
   "execution_count": 25,
   "metadata": {},
   "outputs": [
    {
     "name": "stdout",
     "output_type": "stream",
     "text": [
      "Mean of [5, 5, 5, 5, 2]: 4.4\n"
     ]
    }
   ],
   "source": [
    "number_list = [5, 5, 5, 5, 2]\n",
    "result = mean(number_list)\n",
    "print(f\"Mean of {number_list}: {result}\")"
   ]
  },
  {
   "cell_type": "markdown",
   "metadata": {},
   "source": [
    "E.g 2 of mean using a different number list 'number_list_2'"
   ]
  },
  {
   "cell_type": "code",
   "execution_count": 29,
   "metadata": {},
   "outputs": [
    {
     "name": "stdout",
     "output_type": "stream",
     "text": [
      "6.0\n"
     ]
    }
   ],
   "source": [
    "number_list_2 = [5, 5, 5, 5, 10]\n",
    "result = mean(number_list_2)\n",
    "print(result)"
   ]
  },
  {
   "cell_type": "code",
   "execution_count": null,
   "metadata": {},
   "outputs": [],
   "source": []
  }
 ],
 "metadata": {
  "kernelspec": {
   "display_name": "Python 3",
   "language": "python",
   "name": "python3"
  },
  "language_info": {
   "codemirror_mode": {
    "name": "ipython",
    "version": 3
   },
   "file_extension": ".py",
   "mimetype": "text/x-python",
   "name": "python",
   "nbconvert_exporter": "python",
   "pygments_lexer": "ipython3",
   "version": "3.8.5"
  }
 },
 "nbformat": 4,
 "nbformat_minor": 4
}
